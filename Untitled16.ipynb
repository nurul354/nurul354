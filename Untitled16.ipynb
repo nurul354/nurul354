{
  "nbformat": 4,
  "nbformat_minor": 0,
  "metadata": {
    "colab": {
      "name": "Untitled16.ipynb",
      "provenance": [],
      "authorship_tag": "ABX9TyMz98ZpAB6vfdk0WNJUnD7h",
      "include_colab_link": true
    },
    "kernelspec": {
      "name": "python3",
      "display_name": "Python 3"
    },
    "language_info": {
      "name": "python"
    }
  },
  "cells": [
    {
      "cell_type": "markdown",
      "metadata": {
        "id": "view-in-github",
        "colab_type": "text"
      },
      "source": [
        "<a href=\"https://colab.research.google.com/github/nurul354/nurul354/blob/main/Untitled16.ipynb\" target=\"_parent\"><img src=\"https://colab.research.google.com/assets/colab-badge.svg\" alt=\"Open In Colab\"/></a>"
      ]
    },
    {
      "cell_type": "markdown",
      "metadata": {
        "id": "xAOuB-Iqshg3"
      },
      "source": [
        "# Input & Ouput pada Python"
      ]
    },
    {
      "cell_type": "markdown",
      "metadata": {
        "id": "QivpACNOsuVu"
      },
      "source": [
        "**Membuat input dengan fungsi input()**\n",
        "\n",
        "format input() : input(*object, nilai)\n",
        "\n",
        "Sebuah input dapat dikelola berdasarkan tipe datanya :\n",
        "*   input() : nilai berupa string\n",
        "*   str(input()) : nilai berupa string\n",
        "*   int(input()) : nilai berupa integer\n",
        "*   float(input()) : nilai berupa float\n",
        "*   bool(input()) : nilai berupa boolean\n",
        "\n",
        "**Untuk menampilkan Output dengan fungsi print()**\n",
        "\n",
        "format print() : print(*object, sep=' ', end='\\n', file=sys.stdout, flush=False/True)"
      ]
    },
    {
      "cell_type": "code",
      "metadata": {
        "colab": {
          "base_uri": "https://localhost:8080/"
        },
        "id": "NAqMp017swPu",
        "outputId": "f718a59d-beaf-49e9-ca8b-ce55c2c27a11"
      },
      "source": [
        "# Membuat input bertipe data string (str)\n",
        "nama = input(\"Nama: \")\n",
        "umur = input(\"Umur: \")\n",
        "alamat = input(\"Alamat: \")"
      ],
      "execution_count": 1,
      "outputs": [
        {
          "output_type": "stream",
          "text": [
            "Nama: Nurul Chodijah\n",
            "Umur: 20\n",
            "Alamat: Bogor\n"
          ],
          "name": "stdout"
        }
      ]
    },
    {
      "cell_type": "code",
      "metadata": {
        "colab": {
          "base_uri": "https://localhost:8080/"
        },
        "id": "mY5MLmf6tmht",
        "outputId": "cdaa000e-1e17-40c6-975e-9f6c6087add7"
      },
      "source": [
        "print(nama)\n",
        "print(umur)\n",
        "type(nama)"
      ],
      "execution_count": 2,
      "outputs": [
        {
          "output_type": "stream",
          "text": [
            "Nurul Chodijah\n",
            "20\n"
          ],
          "name": "stdout"
        },
        {
          "output_type": "execute_result",
          "data": {
            "text/plain": [
              "str"
            ]
          },
          "metadata": {
            "tags": []
          },
          "execution_count": 2
        }
      ]
    },
    {
      "cell_type": "code",
      "metadata": {
        "colab": {
          "base_uri": "https://localhost:8080/"
        },
        "id": "hTu4qU42tpoC",
        "outputId": "a29a851b-431c-494c-d397-03e3a91c6bc1"
      },
      "source": [
        "# Membuat input bertipe data integer (int)\n",
        "angka1 = int(input())\n",
        "print(angka1)"
      ],
      "execution_count": 3,
      "outputs": [
        {
          "output_type": "stream",
          "text": [
            "2\n",
            "2\n"
          ],
          "name": "stdout"
        }
      ]
    },
    {
      "cell_type": "code",
      "metadata": {
        "colab": {
          "base_uri": "https://localhost:8080/"
        },
        "id": "sOtcA6ZYttqr",
        "outputId": "966057e8-01b5-4c54-9c75-391c24185852"
      },
      "source": [
        "# Membuat input beripe data float\n",
        "angka2 = float(input())\n",
        "print(angka2)"
      ],
      "execution_count": 4,
      "outputs": [
        {
          "output_type": "stream",
          "text": [
            "3\n",
            "3.0\n"
          ],
          "name": "stdout"
        }
      ]
    },
    {
      "cell_type": "code",
      "metadata": {
        "id": "EOijyN7Mty33"
      },
      "source": [
        ""
      ],
      "execution_count": null,
      "outputs": []
    },
    {
      "cell_type": "markdown",
      "metadata": {
        "id": "S40w_STlt1Nb"
      },
      "source": [
        "**Menampilkan Output Cara Pertama**"
      ]
    },
    {
      "cell_type": "code",
      "metadata": {
        "colab": {
          "base_uri": "https://localhost:8080/"
        },
        "id": "qVKByU7vt9LZ",
        "outputId": "e7a51442-bc97-4bd1-ae2d-908c5c97ed3d"
      },
      "source": [
        "print(\"Nama saya\"+\" \"+ nama + \" \" + \"yang berumur\"+ \" \" + umur + \" \" + \"dan bertempat tinggal di\"+ \" \" + alamat)"
      ],
      "execution_count": 5,
      "outputs": [
        {
          "output_type": "stream",
          "text": [
            "Nama saya Nurul Chodijah yang berumur 20 dan bertempat tinggal di Bogor\n"
          ],
          "name": "stdout"
        }
      ]
    },
    {
      "cell_type": "code",
      "metadata": {
        "colab": {
          "base_uri": "https://localhost:8080/"
        },
        "id": "sTtb2sMuuFKu",
        "outputId": "42c59d86-0bf0-4172-a93b-90b9b2cb16d4"
      },
      "source": [
        "print(' Nurul Chodijah'+\" \" +'Universitas Ahmad Dahlan'+ \" \" +' Bogor')"
      ],
      "execution_count": 7,
      "outputs": [
        {
          "output_type": "stream",
          "text": [
            " Nurul Chodijah Universitas Ahmad Dahlan  Bogor\n"
          ],
          "name": "stdout"
        }
      ]
    },
    {
      "cell_type": "markdown",
      "metadata": {
        "id": "T5cPRtdluTOx"
      },
      "source": [
        "**Menampilkan output cara kedua **"
      ]
    },
    {
      "cell_type": "code",
      "metadata": {
        "colab": {
          "base_uri": "https://localhost:8080/",
          "height": 35
        },
        "id": "Mjm9YaqDuXvr",
        "outputId": "a708cdc5-a23a-451b-f711-449c38910157"
      },
      "source": [
        "txt1 = \"Nama saya {nama}, Saya berumur {umur}\".format(nama = \"Nurul\", umur = 20)\n",
        "txt1"
      ],
      "execution_count": 8,
      "outputs": [
        {
          "output_type": "execute_result",
          "data": {
            "application/vnd.google.colaboratory.intrinsic+json": {
              "type": "string"
            },
            "text/plain": [
              "'Nama saya Nurul, Saya berumur 20'"
            ]
          },
          "metadata": {
            "tags": []
          },
          "execution_count": 8
        }
      ]
    },
    {
      "cell_type": "code",
      "metadata": {
        "colab": {
          "base_uri": "https://localhost:8080/",
          "height": 35
        },
        "id": "btgQNWK9ulve",
        "outputId": "58f0cb5d-b4df-4f22-b4d0-001f9a741f8c"
      },
      "source": [
        "txt2 = \"Nama saya {0}, Saya berumur {1}\".format(\"Nurul\",20)\n",
        "txt2"
      ],
      "execution_count": 9,
      "outputs": [
        {
          "output_type": "execute_result",
          "data": {
            "application/vnd.google.colaboratory.intrinsic+json": {
              "type": "string"
            },
            "text/plain": [
              "'Nama saya Nurul, Saya berumur 20'"
            ]
          },
          "metadata": {
            "tags": []
          },
          "execution_count": 9
        }
      ]
    },
    {
      "cell_type": "code",
      "metadata": {
        "colab": {
          "base_uri": "https://localhost:8080/",
          "height": 35
        },
        "id": "OUV4Z-p8uo28",
        "outputId": "3c55067c-a0bc-405a-a4f9-214ec1d9f23f"
      },
      "source": [
        "txt3 = \"Nama saya {}, Saya berumur {}\".format(\"Nurul\",20)\n",
        "txt3"
      ],
      "execution_count": 10,
      "outputs": [
        {
          "output_type": "execute_result",
          "data": {
            "application/vnd.google.colaboratory.intrinsic+json": {
              "type": "string"
            },
            "text/plain": [
              "'Nama saya Nurul, Saya berumur 20'"
            ]
          },
          "metadata": {
            "tags": []
          },
          "execution_count": 10
        }
      ]
    },
    {
      "cell_type": "markdown",
      "metadata": {
        "id": "h60aYk7auyQV"
      },
      "source": [
        "**Menampilkan output cara ketiga**"
      ]
    },
    {
      "cell_type": "code",
      "metadata": {
        "colab": {
          "base_uri": "https://localhost:8080/"
        },
        "id": "x22C_Jxuu2L6",
        "outputId": "87e2886a-2779-4617-c315-c7c0a1147bda"
      },
      "source": [
        "print(\"Nama saya %s yang berumur %s dan bertempat tinggal di %s\" %(nama, umur, alamat))"
      ],
      "execution_count": 12,
      "outputs": [
        {
          "output_type": "stream",
          "text": [
            "Nama saya Nurul Chodijah yang berumur 20 dan bertempat tinggal di Bogor\n"
          ],
          "name": "stdout"
        }
      ]
    },
    {
      "cell_type": "code",
      "metadata": {
        "colab": {
          "base_uri": "https://localhost:8080/"
        },
        "id": "zUcZfmh_vQ3M",
        "outputId": "9cd4a5c3-7d11-4ac9-c9be-3390f01cac70"
      },
      "source": [
        "var7=' PSDS kelas dasar semangat'\n",
        "print(var7)"
      ],
      "execution_count": 15,
      "outputs": [
        {
          "output_type": "stream",
          "text": [
            " PSDS kelas dasar semangat\n"
          ],
          "name": "stdout"
        }
      ]
    },
    {
      "cell_type": "code",
      "metadata": {
        "id": "OkmX77xrwSxN"
      },
      "source": [
        "var1 = 'Selamat Pagi!' #String\n",
        "var2 = 237217273 # int\n",
        "var3 = 2.383928 # float\n",
        "var4 = True #bool\n",
        "var5 = 2a-1 #complex"
      ],
      "execution_count": null,
      "outputs": []
    },
    {
      "cell_type": "code",
      "metadata": {
        "colab": {
          "base_uri": "https://localhost:8080/"
        },
        "id": "UvOI9EBpwT79",
        "outputId": "fe4bc139-b63f-4733-d01f-b0ba02b59147"
      },
      "source": [
        "print(var1) #tipe data string\n",
        "print(var2) #tipe data integer\n",
        "print(var3) #tipe data float\n",
        "print(var4) #tipe data boolean\n",
        "print(var5) #tipe data Complex"
      ],
      "execution_count": 17,
      "outputs": [
        {
          "output_type": "stream",
          "text": [
            "Apkabar Semua\n",
            "23542567\n",
            "0.3873849\n",
            "False\n",
            "(1+1j)\n"
          ],
          "name": "stdout"
        }
      ]
    },
    {
      "cell_type": "code",
      "metadata": {
        "colab": {
          "base_uri": "https://localhost:8080/"
        },
        "id": "GNS2-laHwaMw",
        "outputId": "85caab6a-62d7-4977-e92c-4a4287e4bb7b"
      },
      "source": [
        "type(var3)"
      ],
      "execution_count": 20,
      "outputs": [
        {
          "output_type": "execute_result",
          "data": {
            "text/plain": [
              "float"
            ]
          },
          "metadata": {
            "tags": []
          },
          "execution_count": 20
        }
      ]
    },
    {
      "cell_type": "code",
      "metadata": {
        "colab": {
          "base_uri": "https://localhost:8080/"
        },
        "id": "zNa0N-YVw-0C",
        "outputId": "7f525b87-38d3-43ef-85be-75aae36572e9"
      },
      "source": [
        "print(var1,'Tipe data var1:', type(var1))\n",
        "print(var2,'Tipe data var2:', type(var2))\n",
        "print(var3,'Tipe data var3:', type(var3))\n",
        "print(var4,'Tipe data var4:', type(var4))\n",
        "print(var5,'Tipe data var5:', type(var5))"
      ],
      "execution_count": 21,
      "outputs": [
        {
          "output_type": "stream",
          "text": [
            "Apkabar Semua Tipe data var1: <class 'str'>\n",
            "23542567 Tipe data var2: <class 'int'>\n",
            "0.3873849 Tipe data var3: <class 'float'>\n",
            "False Tipe data var4: <class 'bool'>\n",
            "(1+1j) Tipe data var5: <class 'complex'>\n"
          ],
          "name": "stdout"
        }
      ]
    },
    {
      "cell_type": "code",
      "metadata": {
        "colab": {
          "base_uri": "https://localhost:8080/"
        },
        "id": "V9ONQg9IxJ7K",
        "outputId": "da7f2c2c-cc28-4da9-c517-0185ee1120ec"
      },
      "source": [
        "umur = 20\n",
        "print(\"data =\", umur, \"type =\", type(umur))"
      ],
      "execution_count": 22,
      "outputs": [
        {
          "output_type": "stream",
          "text": [
            "data = 20 type = <class 'int'>\n"
          ],
          "name": "stdout"
        }
      ]
    },
    {
      "cell_type": "code",
      "metadata": {
        "colab": {
          "base_uri": "https://localhost:8080/"
        },
        "id": "6Ebju-4qxaSg",
        "outputId": "9e29fda8-e483-4c64-a03c-f13672339bae"
      },
      "source": [
        "# Mengkonversi tipe data integer\n",
        "kon_int = int(umur)\n",
        "kon_str = str(umur)\n",
        "kon_bool = bool(umur) #False jika integer = 0, lainnya True (perhatikan hasilnya)\n",
        "\n",
        "# Melihat data yang telah dikonversi\n",
        "print(\"data = \", kon_int , \",type =\", type(kon_int))\n",
        "print(\"data = \", kon_str , \",type =\", type(kon_str))\n",
        "print(\"data = \", kon_bool , \",type =\", type(kon_bool))"
      ],
      "execution_count": 25,
      "outputs": [
        {
          "output_type": "stream",
          "text": [
            "data =  20 ,type = <class 'int'>\n",
            "data =  20 ,type = <class 'str'>\n",
            "data =  True ,type = <class 'bool'>\n"
          ],
          "name": "stdout"
        }
      ]
    },
    {
      "cell_type": "code",
      "metadata": {
        "colab": {
          "base_uri": "https://localhost:8080/"
        },
        "id": "QFjSE9gPxn04",
        "outputId": "7fdac548-b205-4ad0-d6ca-0cf946ca0320"
      },
      "source": [
        "b=[3, 5, 'psds']\n",
        "b"
      ],
      "execution_count": 1,
      "outputs": [
        {
          "output_type": "execute_result",
          "data": {
            "text/plain": [
              "[3, 5, 'psds']"
            ]
          },
          "metadata": {
            "tags": []
          },
          "execution_count": 1
        }
      ]
    },
    {
      "cell_type": "code",
      "metadata": {
        "colab": {
          "base_uri": "https://localhost:8080/"
        },
        "id": "hBwKXHBQyYNA",
        "outputId": "0f04f232-f95b-44cd-dcf4-6c075b993ad2"
      },
      "source": [
        "y=[1,2,3,4,5,6,7,8,9]\n",
        "print(y[0])\n",
        "print(y[-1])\n",
        "print(y[4:-1])\n",
        "print(y[:3])\n",
        "print(y[-3:])\n",
        "print(y[1:7:2])"
      ],
      "execution_count": 5,
      "outputs": [
        {
          "output_type": "stream",
          "text": [
            "1\n",
            "9\n",
            "[5, 6, 7, 8]\n",
            "[1, 2, 3]\n",
            "[7, 8, 9]\n",
            "[2, 4, 6]\n"
          ],
          "name": "stdout"
        }
      ]
    },
    {
      "cell_type": "code",
      "metadata": {
        "colab": {
          "base_uri": "https://localhost:8080/"
        },
        "id": "ELjWoxDH2B-W",
        "outputId": "591c35bf-3d07-494b-e02f-b3ca090f964e"
      },
      "source": [
        "#Mengganti elemen\n",
        "y=[3,5,4]\n",
        "y[1]=1\n",
        "print(y)"
      ],
      "execution_count": 7,
      "outputs": [
        {
          "output_type": "stream",
          "text": [
            "[3, 1, 4]\n"
          ],
          "name": "stdout"
        }
      ]
    },
    {
      "cell_type": "code",
      "metadata": {
        "colab": {
          "base_uri": "https://localhost:8080/"
        },
        "id": "RyLVYIyQ2e3f",
        "outputId": "917fcefb-cd75-4124-c5ea-8103dd1b73c8"
      },
      "source": [
        "#Menambah elemen\n",
        "y=[3,5,4]\n",
        "y[1]=1\n",
        "y.append(8) #append artinya menambah\n",
        "print(y)"
      ],
      "execution_count": 8,
      "outputs": [
        {
          "output_type": "stream",
          "text": [
            "[3, 1, 4, 8]\n"
          ],
          "name": "stdout"
        }
      ]
    },
    {
      "cell_type": "code",
      "metadata": {
        "colab": {
          "base_uri": "https://localhost:8080/"
        },
        "id": "xiLvnT4J21zd",
        "outputId": "108324db-fb9d-47af-e85a-181a72248651"
      },
      "source": [
        "tumbuhan=['kaktus','pinus','cemara','anggrek']\n",
        "del tumbuhan[3]\n",
        "print(tumbuhan)"
      ],
      "execution_count": 9,
      "outputs": [
        {
          "output_type": "stream",
          "text": [
            "['kaktus', 'pinus', 'cemara']\n"
          ],
          "name": "stdout"
        }
      ]
    },
    {
      "cell_type": "code",
      "metadata": {
        "colab": {
          "base_uri": "https://localhost:8080/"
        },
        "id": "fK73A9ku3eq4",
        "outputId": "864313f7-0d96-4851-c4d1-b98945016dd2"
      },
      "source": [
        "del tumbuhan [0]\n",
        "print(tumbuhan)"
      ],
      "execution_count": 12,
      "outputs": [
        {
          "output_type": "stream",
          "text": [
            "['pinus', 'cemara']\n"
          ],
          "name": "stdout"
        }
      ]
    },
    {
      "cell_type": "code",
      "metadata": {
        "colab": {
          "base_uri": "https://localhost:8080/"
        },
        "id": "fkDntWvBB5Ym",
        "outputId": "a0712611-4067-41b1-ea1c-96a3902673c2"
      },
      "source": [
        "a=\"Selamat pagi\"\n",
        "print(a[6]) #ambil karakter kelima dari string a\n",
        "print(a[3:7]) #ambil karakter kedelapan hingga sepuluh dari string a\n",
        "a=\"apakabar dunia\" #ubah isi string a menjadi \"apakabar dunia\", seharusnya berhasil karna mutable\n",
        "print(a)"
      ],
      "execution_count": 15,
      "outputs": [
        {
          "output_type": "stream",
          "text": [
            "t\n",
            "amat\n",
            "apakabar dunia\n"
          ],
          "name": "stdout"
        }
      ]
    },
    {
      "cell_type": "markdown",
      "metadata": {
        "id": "7jUGInXbuEqp"
      },
      "source": [
        ""
      ]
    },
    {
      "cell_type": "code",
      "metadata": {
        "colab": {
          "base_uri": "https://localhost:8080/",
          "height": 215
        },
        "id": "x5mZ85b2CncQ",
        "outputId": "cc146d85-cd9b-4610-d7f9-e7513f8fc922"
      },
      "source": [
        "a[6]=\"i\" #ubah karakter keenam dari string a menjadi \"i\", seharusnya gagal karena immutable"
      ],
      "execution_count": 16,
      "outputs": [
        {
          "output_type": "error",
          "ename": "TypeError",
          "evalue": "ignored",
          "traceback": [
            "\u001b[0;31m---------------------------------------------------------------------------\u001b[0m",
            "\u001b[0;31mTypeError\u001b[0m                                 Traceback (most recent call last)",
            "\u001b[0;32m<ipython-input-16-fef8da0a1ac6>\u001b[0m in \u001b[0;36m<module>\u001b[0;34m()\u001b[0m\n\u001b[0;32m----> 1\u001b[0;31m \u001b[0ma\u001b[0m\u001b[0;34m[\u001b[0m\u001b[0;36m6\u001b[0m\u001b[0;34m]\u001b[0m\u001b[0;34m=\u001b[0m\u001b[0;34m\"i\"\u001b[0m \u001b[0;31m#ubah karakter keenam dari string a menjadi \"i\", seharusnya gagal karena immutable\u001b[0m\u001b[0;34m\u001b[0m\u001b[0;34m\u001b[0m\u001b[0m\n\u001b[0m",
            "\u001b[0;31mTypeError\u001b[0m: 'str' object does not support item assignment"
          ]
        }
      ]
    },
    {
      "cell_type": "code",
      "metadata": {
        "colab": {
          "base_uri": "https://localhost:8080/"
        },
        "id": "GC6NtKwyDW8A",
        "outputId": "576b6584-20d4-4c35-f378-805286886935"
      },
      "source": [
        "a={1:'value','key':2}\n",
        "print(type(2))"
      ],
      "execution_count": 17,
      "outputs": [
        {
          "output_type": "stream",
          "text": [
            "<class 'int'>\n"
          ],
          "name": "stdout"
        }
      ]
    },
    {
      "cell_type": "code",
      "metadata": {
        "colab": {
          "base_uri": "https://localhost:8080/"
        },
        "id": "IgQrwnCXEo_u",
        "outputId": "c5ca4262-7cb8-4915-b64e-dd9cddffdb83"
      },
      "source": [
        "d={1:'value','key':2}\n",
        "print(type(d))\n",
        "print(\"d[1]=\",d[1]);\n",
        "print(\"d['key']=\", d['key']);"
      ],
      "execution_count": 18,
      "outputs": [
        {
          "output_type": "stream",
          "text": [
            "<class 'dict'>\n",
            "d[1]= value\n",
            "d['key']= 2\n"
          ],
          "name": "stdout"
        }
      ]
    },
    {
      "cell_type": "code",
      "metadata": {
        "colab": {
          "base_uri": "https://localhost:8080/"
        },
        "id": "OLKqLdqqFKGa",
        "outputId": "b734ed75-b62c-424c-9303-cead7e0d2139"
      },
      "source": [
        "d = {3:'value','key':4}\n",
        "print(type(d))\n",
        "print(\"d[3] = \", d[3]);\n",
        "print(\"d['key'] = \", d['key']);"
      ],
      "execution_count": 19,
      "outputs": [
        {
          "output_type": "stream",
          "text": [
            "<class 'dict'>\n",
            "d[3] =  value\n",
            "d['key'] =  4\n"
          ],
          "name": "stdout"
        }
      ]
    },
    {
      "cell_type": "code",
      "metadata": {
        "colab": {
          "base_uri": "https://localhost:8080/",
          "height": 215
        },
        "id": "wAfqQxUCFUug",
        "outputId": "310a1c7d-9ffb-48b2-991e-793ec13c1249"
      },
      "source": [
        "#nyobain eror\n",
        "print(\"d[4]=\",d[4]);"
      ],
      "execution_count": 20,
      "outputs": [
        {
          "output_type": "error",
          "ename": "KeyError",
          "evalue": "ignored",
          "traceback": [
            "\u001b[0;31m---------------------------------------------------------------------------\u001b[0m",
            "\u001b[0;31mKeyError\u001b[0m                                  Traceback (most recent call last)",
            "\u001b[0;32m<ipython-input-20-742f536182dd>\u001b[0m in \u001b[0;36m<module>\u001b[0;34m()\u001b[0m\n\u001b[1;32m      1\u001b[0m \u001b[0;31m#nyobain eror\u001b[0m\u001b[0;34m\u001b[0m\u001b[0;34m\u001b[0m\u001b[0;34m\u001b[0m\u001b[0m\n\u001b[0;32m----> 2\u001b[0;31m \u001b[0mprint\u001b[0m\u001b[0;34m(\u001b[0m\u001b[0;34m\"d[4]=\"\u001b[0m\u001b[0;34m,\u001b[0m\u001b[0md\u001b[0m\u001b[0;34m[\u001b[0m\u001b[0;36m4\u001b[0m\u001b[0;34m]\u001b[0m\u001b[0;34m)\u001b[0m\u001b[0;34m;\u001b[0m\u001b[0;34m\u001b[0m\u001b[0;34m\u001b[0m\u001b[0m\n\u001b[0m",
            "\u001b[0;31mKeyError\u001b[0m: 4"
          ]
        }
      ]
    }
  ]
}